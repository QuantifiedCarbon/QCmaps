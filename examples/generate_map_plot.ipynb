{
 "cells": [
  {
   "cell_type": "code",
   "execution_count": null,
   "metadata": {},
   "outputs": [],
   "source": [
    "%load_ext autoreload\n",
    "%autoreload 2\n",
    "#%matplotlib widget"
   ]
  },
  {
   "cell_type": "code",
   "execution_count": null,
   "metadata": {},
   "outputs": [],
   "source": [
    "import sys\n",
    "import os\n",
    "repo_path = \"~/repo/QCmaps\"\n",
    "repo_path = os.path.expanduser(repo_path)\n",
    "sys.path.append(repo_path)\n",
    "\n",
    "import QCmaps.plot as qcmp\n"
   ]
  },
  {
   "cell_type": "code",
   "execution_count": null,
   "metadata": {},
   "outputs": [],
   "source": [
    "import pandas as pd\n"
   ]
  },
  {
   "cell_type": "code",
   "execution_count": null,
   "metadata": {},
   "outputs": [],
   "source": [
    "xls = pd.ExcelFile(\"reference_2024Q4_1991.xlsx\")\n"
   ]
  },
  {
   "cell_type": "code",
   "execution_count": null,
   "metadata": {},
   "outputs": [],
   "source": [
    "years = [2025, 2030, 2035]\n",
    "\n",
    "df_demand = pd.read_excel(xls, sheet_name=\"demand\", index_col=0)\n",
    "df_demand.columns = [column.rsplit(\"_\", 1)[1] for column in df_demand.columns]\n",
    "df_demand = df_demand.T.groupby(level=0).sum().T\n",
    "df_demand = df_demand * 1e-6\n",
    "df_demand = df_demand.sort_index()\n",
    "\n",
    "df_generation = pd.read_excel(xls, sheet_name=\"generation\", index_col=0)\n",
    "df_generation.columns = [column.rsplit(\"_\", 1)[1] for column in df_generation.columns]\n",
    "df_generation = df_generation.T.groupby(level=0).sum().T\n",
    "df_generation = df_generation * 1e-6\n",
    "df_generation = df_generation.sort_index()\n",
    "\n",
    "df_balance = df_demand - df_generation\n",
    "df_balance = df_balance.loc[years]\n",
    "\n",
    "df_price = pd.read_excel(xls, sheet_name=\"price\", index_col=0)\n",
    "df_price = df_price.sort_index()\n",
    "df_price = df_price.loc[years]\n"
   ]
  },
  {
   "cell_type": "code",
   "execution_count": null,
   "metadata": {},
   "outputs": [],
   "source": [
    "df_balance"
   ]
  },
  {
   "cell_type": "code",
   "execution_count": null,
   "metadata": {},
   "outputs": [],
   "source": [
    "df_price"
   ]
  },
  {
   "cell_type": "code",
   "execution_count": null,
   "metadata": {},
   "outputs": [],
   "source": [
    "fig = qcmp.plot(df_balance, \"Balance (TWh)\")"
   ]
  },
  {
   "cell_type": "code",
   "execution_count": null,
   "metadata": {},
   "outputs": [],
   "source": [
    "fig = qcmp.plot(df_price, \"Price (€/MWh)\", geoface=\"name\")\n"
   ]
  }
 ],
 "metadata": {
  "@webio": {
   "lastCommId": null,
   "lastKernelId": null
  },
  "git": {
   "suppress_outputs": false
  },
  "hide_input": false,
  "kernelspec": {
   "display_name": "QC312",
   "language": "python",
   "name": "python3"
  },
  "language_info": {
   "codemirror_mode": {
    "name": "ipython",
    "version": 3
   },
   "file_extension": ".py",
   "mimetype": "text/x-python",
   "name": "python",
   "nbconvert_exporter": "python",
   "pygments_lexer": "ipython3",
   "version": "3.12.3"
  },
  "nav_menu": {},
  "toc": {
   "navigate_menu": true,
   "number_sections": true,
   "sideBar": false,
   "threshold": 6,
   "toc_cell": false,
   "toc_section_display": "block",
   "toc_window_display": false
  }
 },
 "nbformat": 4,
 "nbformat_minor": 4
}
